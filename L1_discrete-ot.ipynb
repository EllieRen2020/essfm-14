{
 "cells": [
  {
   "cell_type": "markdown",
   "metadata": {},
   "source": [
    "# <center>Lecture 1: introduction to optimal transport: the discrete case</center>\n",
    "### <center>Alfred Galichon (NYU)</center>\n",
    "## <center>14th European Summer School in Financial Mathematics</center>\n",
    "<center>© 2021 by Alfred Galichon. Past and present support from NSF grant DMS-1716489, ERC grant CoG-866274, and contributions by Jules Baudet, Pauline Corblet, Gregory Dannay, Julie Lenoir, and James Nesbit are acknowledged.</center>"
   ]
  },
  {
   "cell_type": "markdown",
   "metadata": {},
   "source": [
    "A large part of this material is taken from the math+econ+code lecture series:<br>\n",
    "https://www.math-econ-code.org/"
   ]
  },
  {
   "cell_type": "markdown",
   "metadata": {},
   "source": [
    "# Part 1: discrete optimal transport and linear programming"
   ]
  },
  {
   "cell_type": "markdown",
   "metadata": {},
   "source": [
    "### Learning Objectives\n",
    "\n",
    "* Optimal assignment problem\n",
    "\n",
    "* Pairwise stability, Walrasian equilibrium\n",
    "\n",
    "* Computation\n",
    "\n",
    "### References\n",
    "\n",
    "* Galichon, *Optimal Transport Methods in Economics*, Ch. 3\n",
    "\n",
    "* Roth, Sotomayor(1990). *Two-Sided Matching*. Cambridge.\n",
    "\n",
    "* Koopmans and Beckmann (1957). \"Assignment problems and the location of economic activities.\" *Econometrica*.\n",
    "\n",
    "* Shapley and Shubik (1972). The assignment game I: The core.\" *IJGT*.\n",
    "\n",
    "* Becker (1993). *A Treatise of the Family*. Harvard.\n",
    "\n",
    "* Gretsky, Ostroy, and Zame (1992). \"The nonatomic assignment model.\" *Economic Theory*.\n",
    "\n",
    "* Burkard, Dell'Amico, and Martello (2012). *Assignment Problems*. SIAM.\n",
    "\n",
    "* Dupuy and Galichon (2014). \"Personality traits and the marriage market.\" *JPE*."
   ]
  },
  {
   "cell_type": "markdown",
   "metadata": {},
   "source": [
    "## Motivation\n",
    "\n",
    "### Optimal Transport\n",
    "\n",
    "Consider the problem of assigning a possibly infinite number of workers\n",
    "and firms.\n",
    "\n",
    "* Each worker should work for one firm, and each firm should hire one worker.\n",
    "\n",
    "* Workers and firms have heterogenous characteristics; let $x\\in \\mathcal{X}$ and $y\\in\\mathcal{Y}$ be the characteristics of workers and firms respectively.\n",
    "\n",
    "* Workers and firms are in equal mass, which is normalized to one. The distribution of worker's types is $P$, and the distribution of the firm's types is $Q$, where $P$ and $Q$ are probability measures on $\\mathcal{X}$ and $\\mathcal{Y}$.\n",
    "\n",
    "It is assumed that if a worker $x$ matches with a firm $y$, the total output generated is $\\Phi_{xy}$. The questions are then:\n",
    "\n",
    "* **Optimality:** what is the optimal assignment in the sense that it maximizes the overal output generated?\n",
    "\n",
    "* **Equilibrium:** what are the equilibrium assignment and the equilibrium wages?\n",
    "\n",
    "* **Efficiency:** do these two notions coincide?\n",
    "\n",
    "The same tools have been used by Gary Becker to study the heterosexual marriage market, where $x$ is the man's characteristics, and $y$ is the woman's characteristics, and \"wages\" are replaced by \"transfers\".\n"
   ]
  },
  {
   "cell_type": "markdown",
   "metadata": {},
   "source": [
    "## Data\n",
    "\n",
    "In this lecture, we shall take a look at marriage data (while a worker-firm example will be seen in next block). Dupuy and Galichon (JPE, 2014) study a marriage dataset where, in addition to usual socio-demographic variables (such as education and age), measures of personality traits are reported.\n",
    "\n",
    "* The literature on quantitative psychology argues that one can capture relatively well an individual's personality along five dimensions, the \"big 5\" - consciousness, extraversion, agreableness, emotional stability, autonomy - assessed though a standardized questionaire.\n",
    "\n",
    "* In addition to this, we observed a (self-assessed) measure of health, risk-aversion, education, height and body mass index = weight in kg/ (height in m)$^2$. In total, the available characteristics $x_{i}$ of man $i$ and $y_{j}$ of woman $j$ are both $10$-dimensional vectors.\n",
    "\n",
    "* It is assumed that the surplus of interaction is given by $\\Phi\\left(x_{i},y_{j}\\right)  =x_{i}^{\\intercal}Ay_{j}$, where $A$ is a *given* $10 \\times 10$ matrix. (later in this course, we'll see how to estimate $A$ based on matched marital data).\n",
    "\n",
    "Today, we solve a central planner's problem (a stylized version of the problem OKCupids would solve): given a population of men and a population of women, how do we mutually assign these in order to:\n",
    "\n",
    "1. maximize matching surplus \n",
    "\n",
    "2. attain a (hopefully) stable assignment."
   ]
  },
  {
   "cell_type": "markdown",
   "metadata": {},
   "source": [
    "We load the libraries that we shall need. If you have not Gurobi already installed on your machine, you may load it (with a demo license) using `pip install` as described in the commented line below."
   ]
  },
  {
   "cell_type": "code",
   "execution_count": 1,
   "metadata": {},
   "outputs": [],
   "source": [
    "# !python -m pip install -i https://pypi.gurobi.com gurobipy ## only if Gurobi not here\n",
    "\n",
    "import pandas as pd\n",
    "import numpy as np\n",
    "import scipy.sparse as spr\n",
    "import time\n",
    "import gurobipy as grb"
   ]
  },
  {
   "cell_type": "markdown",
   "metadata": {},
   "source": [
    "We load the data. These are the men's and the women's characteristics, and their mutual affinities."
   ]
  },
  {
   "cell_type": "code",
   "execution_count": 2,
   "metadata": {},
   "outputs": [
    {
     "data": {
      "text/html": [
       "<div>\n",
       "<style scoped>\n",
       "    .dataframe tbody tr th:only-of-type {\n",
       "        vertical-align: middle;\n",
       "    }\n",
       "\n",
       "    .dataframe tbody tr th {\n",
       "        vertical-align: top;\n",
       "    }\n",
       "\n",
       "    .dataframe thead th {\n",
       "        text-align: right;\n",
       "    }\n",
       "</style>\n",
       "<table border=\"1\" class=\"dataframe\">\n",
       "  <thead>\n",
       "    <tr style=\"text-align: right;\">\n",
       "      <th></th>\n",
       "      <th>educm</th>\n",
       "      <th>heightm</th>\n",
       "      <th>BMIm</th>\n",
       "      <th>healthm</th>\n",
       "      <th>consm</th>\n",
       "      <th>extram</th>\n",
       "      <th>agreem</th>\n",
       "      <th>emom</th>\n",
       "      <th>autom</th>\n",
       "      <th>riskym</th>\n",
       "    </tr>\n",
       "  </thead>\n",
       "  <tbody>\n",
       "    <tr>\n",
       "      <th>0</th>\n",
       "      <td>2</td>\n",
       "      <td>186</td>\n",
       "      <td>28.905075</td>\n",
       "      <td>3</td>\n",
       "      <td>-0.752877</td>\n",
       "      <td>-0.360787</td>\n",
       "      <td>-0.711276</td>\n",
       "      <td>-0.291031</td>\n",
       "      <td>0.840217</td>\n",
       "      <td>0.479437</td>\n",
       "    </tr>\n",
       "    <tr>\n",
       "      <th>1</th>\n",
       "      <td>2</td>\n",
       "      <td>176</td>\n",
       "      <td>27.440599</td>\n",
       "      <td>3</td>\n",
       "      <td>0.345542</td>\n",
       "      <td>-0.805524</td>\n",
       "      <td>-0.251796</td>\n",
       "      <td>-0.305475</td>\n",
       "      <td>-0.064454</td>\n",
       "      <td>0.030303</td>\n",
       "    </tr>\n",
       "    <tr>\n",
       "      <th>2</th>\n",
       "      <td>3</td>\n",
       "      <td>187</td>\n",
       "      <td>23.163374</td>\n",
       "      <td>3</td>\n",
       "      <td>-0.759678</td>\n",
       "      <td>0.898007</td>\n",
       "      <td>-0.029462</td>\n",
       "      <td>-0.672859</td>\n",
       "      <td>-0.961691</td>\n",
       "      <td>-0.556598</td>\n",
       "    </tr>\n",
       "    <tr>\n",
       "      <th>3</th>\n",
       "      <td>1</td>\n",
       "      <td>184</td>\n",
       "      <td>29.241493</td>\n",
       "      <td>2</td>\n",
       "      <td>-0.455688</td>\n",
       "      <td>-1.053375</td>\n",
       "      <td>-0.041612</td>\n",
       "      <td>0.436133</td>\n",
       "      <td>0.121873</td>\n",
       "      <td>0.992084</td>\n",
       "    </tr>\n",
       "    <tr>\n",
       "      <th>4</th>\n",
       "      <td>1</td>\n",
       "      <td>174</td>\n",
       "      <td>23.781214</td>\n",
       "      <td>4</td>\n",
       "      <td>-1.440239</td>\n",
       "      <td>1.163730</td>\n",
       "      <td>0.293750</td>\n",
       "      <td>-0.538922</td>\n",
       "      <td>0.782285</td>\n",
       "      <td>-1.401034</td>\n",
       "    </tr>\n",
       "  </tbody>\n",
       "</table>\n",
       "</div>"
      ],
      "text/plain": [
       "   educm  heightm       BMIm  healthm     consm    extram    agreem      emom  \\\n",
       "0      2      186  28.905075        3 -0.752877 -0.360787 -0.711276 -0.291031   \n",
       "1      2      176  27.440599        3  0.345542 -0.805524 -0.251796 -0.305475   \n",
       "2      3      187  23.163374        3 -0.759678  0.898007 -0.029462 -0.672859   \n",
       "3      1      184  29.241493        2 -0.455688 -1.053375 -0.041612  0.436133   \n",
       "4      1      174  23.781214        4 -1.440239  1.163730  0.293750 -0.538922   \n",
       "\n",
       "      autom    riskym  \n",
       "0  0.840217  0.479437  \n",
       "1 -0.064454  0.030303  \n",
       "2 -0.961691 -0.556598  \n",
       "3  0.121873  0.992084  \n",
       "4  0.782285 -1.401034  "
      ]
     },
     "execution_count": 2,
     "metadata": {},
     "output_type": "execute_result"
    }
   ],
   "source": [
    "thepath = 'https://raw.githubusercontent.com/math-econ-code/mec_optim_2021-01/master/data_mec_optim/marriage_personality-traits/'\n",
    "\n",
    "data_X = pd.read_csv(thepath + \"Xvals.csv\")\n",
    "data_Y = pd.read_csv(thepath + \"Yvals.csv\")\n",
    "affdf = pd.read_csv(thepath + \"affinitymatrix.csv\")\n",
    "\n",
    "data_X.head()"
   ]
  },
  {
   "cell_type": "markdown",
   "metadata": {},
   "source": [
    "## The Discrete Monge-Kantorovich Theorem\n",
    "\n",
    "Assume that the type spaces $\\mathcal{X}$ and $\\mathcal{Y}$ are finite, so $\\mathcal{X=}\\left\\{  1,...,N\\right\\}  $, and $\\mathcal{Y}=\\left\\{1,...,M\\right\\}$. \n",
    "\n",
    "The mass of workers of type $x$ is $p_{x}$; the mass of jobs of type $y$ is $q_{y}$, with $\\sum_{x}p_{x}=\\sum_{y}q_{y}=1$.\n",
    "\n",
    "Let $\\pi_{xy}$ be the mass of workers of type $x$ assigned to jobs of type $y$. Every worker is busy and every job is filled, thus\n",
    "\n",
    "<a name=\"dicsr-constraints\"></a>\n",
    "\\begin{align*}\n",
    "\\pi\\in\\mathcal{M}\\left(p,q\\right) :=\\left\\{ \\pi_{xy}\\geq 0, \\sum_{y\\in\\mathcal{Y}}\\pi_{xy}=p_{x}\\text{ and }\\sum_{x\\in\\mathcal{X}}\\pi\n",
    "_{xy}=q_{y} \\right\\}. \n",
    "\\end{align*}\n",
    "\n",
    "(Note that this formulation allows for mixing, i.e. it allows for $\\pi_{xy}>0$ and $\\pi_{xy^{\\prime}}>0$ to hold simultaneously with $y\\neq y^{\\prime}$.)\n",
    "\n",
    "\n",
    "Assume the economic output created when assigning worker $x$ to job $y$ is $\\Phi_{xy}$. Hence, the optimal assignment is\n",
    "\n",
    "<a name=\"OAP\"></a>\n",
    "\\begin{align*}\n",
    "\\max_{\\pi\\geq0}  &  \\sum_{xy}\\pi_{xy}\\Phi_{xy} \\\\\n",
    "s.t.~  &  \\sum_{y\\in\\mathcal{Y}}\\pi_{xy}=p_{x} \\left[u_{x}\\right] \\\\\n",
    "&  \\sum_{x\\in\\mathcal{X}}\\pi_{xy}=q_{y}~\\left[v_{y}\\right]\n",
    "\\end{align*}"
   ]
  },
  {
   "cell_type": "markdown",
   "metadata": {},
   "source": [
    "## Duality\n",
    "\n",
    "---\n",
    "**Theorem**\n",
    "1. The value of the [primal problem](#OAP) *coincides with the value of the dual problem*\n",
    "\n",
    "    <a name=\"dual-discr\"></a>\n",
    "    \\begin{align*}\n",
    "    \\min_{u,v}  &  \\sum_{x\\in\\mathcal{X}}p_{x}u_{x}+\\sum_{y\\in\\mathcal{Y}}\n",
    "    q_{y}v_{y}\\\\\n",
    "    s.t.  &  u_{x}+v_{y}\\geq\\Phi_{xy}~\\left[\\pi_{xy}\\geq0\\right]\n",
    "    \\end{align*}\n",
    "\n",
    "2. Both the primal and the dual problems have optimal solutions. If $\\pi$ *is a solution to the primal problem* and $\\left(u,v\\right)$ is *a solution to the dual problem, then by complementary slackness*,\n",
    "\n",
    "    <a name=\"complSlack\"> </a>\n",
    "    \\begin{align*}\n",
    "    \\pi_{xy}>0\\text{ implies }u_{x}+v_{y}=\\Phi_{xy}.\n",
    "    \\end{align*}\n"
   ]
  },
  {
   "cell_type": "markdown",
   "metadata": {},
   "source": [
    "**Proof**. We have: \n",
    "\n",
    "1. The value of the [primal problem](#OAP) can be written as $\\max_{\\pi\\geq0}\\min_{u,v}S\\left(  \\pi,u,v\\right)$, where\n",
    "\n",
    "    \\begin{align*}\n",
    "    S\\left(  \\pi,u,v\\right)  :=\\sum_{xy}\\pi_{xy}\\Phi_{xy}+\\sum_{x\\in\\mathcal{X}}u_{x}(p_{x}-\\sum_{y\\in\\mathcal{Y}}\\pi_{xy})+\\sum_{y\\in\\mathcal{Y}}v_{y}(q_{y}-\\sum_{x\\in\\mathcal{X}}\\pi_{xy})\n",
    "    \\end{align*}\n",
    "\n",
    "    but by the minmax theorem, this value is equal to $\\min_{u,v}\\max_{\\pi\\geq 0}S\\left(  \\pi,u,v\\right)$, which is the value of the [dual problem](#ual-discr}).\n",
    "\n",
    "2. Follows by noting that, for a primal solution $\\pi$ and a dual solution $\\left(  u,v\\right)  $, then $S\\left( \\pi,u,v\\right)  =\\sum_{xy}\\pi_{xy} \\Phi_{xy}$. $\\blacksquare$"
   ]
  },
  {
   "cell_type": "markdown",
   "metadata": {},
   "source": [
    "**Remarks**. Note that this result is the min-cost flow duality theorem in the bipartite case, as seen in lecture $2$, after setting transportation cost through $xy\\in\\mathcal{X}\\times\\mathcal{Y}$ to $c_{xy}=-\\Phi_{xy}$, and $n_{t}=-p_{t}1\\left\\{  t\\in\\mathcal{X}\\right\\}  +q_{t}\\mathbf{1}\\left\\{  t\\in\\mathcal{Y}\\right\\}$. We see various new interpretations of the result.\n",
    "\n",
    "The following statements are equivalent:\n",
    "\n",
    "* $\\pi$ is an optimal solution to the primal problem, and $\\left(\n",
    "u,v\\right)  $ is an optimal solution to the dual problem, and\n",
    "\n",
    "* (i) $\\pi\\in M\\left(  p,q\\right)  $\n",
    "\n",
    "* (ii) $u_{x}+v_{y}\\geq\\Phi_{xy}$\n",
    "\n",
    "* (iii) $\\pi_{xy}>0$ implies $u_{x}+v_{y}\\leq\\Phi_{xy}$.\n",
    "\n",
    "We saw the direct implication. But the converse is easy: take $\\pi$ and $\\left(  u,v\\right)  $ satisfying (i)--(iii), Then one has\n",
    "\n",
    "\\begin{align*}\n",
    "dual\\leq\\sum_{x}p_{x}u_{x}+\\sum_{y}q_{y}v_{y}=\\sum_{xy}\\pi_{xy}\\left(\n",
    "u_{x}+v_{y}\\right)  \\leq\\sum_{xy}\\pi_{xy}\\Phi_{xy}\\leq primal\n",
    "\\end{align*}\n",
    "\n",
    "but by the MK duality theorem, both ends coincide. Thus $\\pi$ is optimal for the primal and $\\left(  u,v\\right)  $ for the dual."
   ]
  },
  {
   "cell_type": "markdown",
   "metadata": {},
   "source": [
    "### Unassigned Agents\n",
    "\n",
    "A important variant of the problem exists with $\\sum_{x\\in\\mathcal{X}}p_{x}\\neq\\sum_{y\\in\\mathcal{Y}}q_{y}$ and the primal constraints become inequality constraints. The duality then becomes\n",
    "\n",
    "\\begin{align*}\n",
    "\\begin{array}\n",
    "[c]{rrr}\n",
    "\\max_{\\pi\\geq0}\\sum\\pi_{xy}\\Phi_{xy} & = & \\min_{u,v}\\sum_{x\\in\\mathcal{X}\n",
    "}p_{x}u_{x}+\\sum_{y\\in\\mathcal{Y}}q_{y}v_{y}\\\\\n",
    "s.t.~\\sum_{y\\in\\mathcal{Y}}\\pi_{xy}\\leq p_{x} &  & u\\geq0,~v\\geq0 \\\\\n",
    "\\sum_{x\\in\\mathcal{X}}\\pi_{xy}\\leq q_{y} &  & u_{x}+v_{y}\\geq\\Phi_{xy}\n",
    "\\end{array}\n",
    "\\end{align*}\n"
   ]
  },
  {
   "cell_type": "markdown",
   "metadata": {},
   "source": [
    "### Pairwise stability\n",
    "\n",
    "In a marriage context, an important concept is stability:\n",
    "\n",
    "An outcome is a vector $\\left(  \\pi,u,v\\right)  $, where $u_{x}$ and $v_{y}$ are $x$'s and $y$'s payoffs, and $\\pi$ is a matching that is\n",
    "\n",
    "<a name=\"primFeas\"></a>\n",
    "\\begin{align*}\n",
    "\\pi\\in\\mathcal{M}\\left(  p,q\\right).\n",
    "\\end{align*}\n",
    "\n",
    "A pair $xy$ is blocking if $x$ and $y$ can find a way of sharing their joint surplus $\\Phi_{xy}$ in such a way that $x$ gets more than $u_{x}$ and $y$ gets more than $v_{y}$. Hence there is no blocking pair if and only if for every $x$ and $y$, one has\n",
    "\n",
    "<a name=\"noBlocking\"></a>\n",
    "\\begin{align*}\n",
    "u_{x}+v_{y}\\geq\\Phi_{xy}.\n",
    "\\end{align*}\n",
    "\n",
    "If $x$ and $y$ are actually matched, their utilities $u_{x}$ and $v_{y}$ need to be feasible, i.e. the above inequality should be saturated. Hence\n",
    "\n",
    "<a name=\"cplSlck\"></a>\n",
    "\\begin{align*}\n",
    "\\pi_{xy}>0\\text{ implies }u_{x}+v_{y}=\\Phi_{xy}.\n",
    "\\end{align*}\n",
    "\n",
    "---\n",
    "**Definition:**\n",
    "\n",
    "A matching that satisfies [primal feasbilitity](#primFeas), [no blocking](#noBlocking), and [complementary slackness](#cplSlck) is called a stable matching.\n",
    "\n",
    "As it turns out, these conditions are precisely the conditions that express complementarity slackness in the Monge-Kantorovich problem. Therefore, outcome$\\left(  \\pi,u,v\\right)  $ is stable if and only if $\\pi$ is a solution to the primal problem, and $\\left(  u,v\\right)  $ is a solution to the dual problem."
   ]
  },
  {
   "cell_type": "markdown",
   "metadata": {},
   "source": [
    "### Wage market interpretation 1\n",
    "\n",
    "Back to the workers / firms interpretation and assume for now that workers are indifferent between any two firms that offer the same salary. We argue that $u\\left(  x\\right)  $ can be interpreted as the equilibrium wage of worker $x$, while $v\\left(  y\\right)  $ can be interpreted as the equilibrium profit of firm $y$. Indeed:\n",
    "\n",
    "---\n",
    "**Proposition**\n",
    "If $\\left(u,v\\right)$ is a solution to the dual of the Kantorovich problem, then\n",
    "\n",
    "\\begin{align*}\n",
    "u_{x}  &  =\\sup_{y\\in\\mathcal{Y}}\\left(  \\Phi_{xy}-v_{y}\\right)\n",
    "\\label{conjug1}\\\\\n",
    "v_{y}  &  =\\sup_{x\\in\\mathcal{X}}\\left(  \\Phi_{xy}-u_{x}\\right)  .\n",
    "\\label{conjug2}\n",
    "\\end{align*}\n",
    "\n",
    "---\n",
    "\n",
    "Therefore, $u_{x}$ can be interpreted as equilibrium wage of worker $x$, and $v_{y}$ as equilibrium profit of firm $y$. In this interpretation, all workers get the same wage at equilibrium.\n"
   ]
  },
  {
   "cell_type": "markdown",
   "metadata": {},
   "source": [
    "### Wage market interpretation 2\n",
    "\n",
    "Assume now that if a worker of type $x$ works for a firm of type $y$ for wage $w_{xy}$, then gets $\\alpha_{xy}+w_{xy}$, where $\\alpha_{xy}$ is the nonmonetary payoff associated with working with a firm of type $y$. The firm's profit is $\\gamma_{xy}-w_{xy}$, where $\\gamma_{xy}$ is the economic output.\n",
    "\n",
    "If an employee of type $x$ matches with a firm of type $y$, they generate joint surplus $\\Phi_{xy}$, given by%\n",
    "\n",
    "\\begin{align*}\n",
    "\\Phi_{xy}=\\underset{\\text{employee's payoff}}{\\underbrace{\\alpha_{xy}+w_{xy}}}+\\underset{\\text{firm's payoff}}{\\underbrace{\\gamma_{xy}-w_{xy}}}=\\alpha_{xy}+\\gamma_{xy}\n",
    "\\end{align*}\n",
    "\n",
    "which is independent from $w$.\n",
    "\n",
    "Workers choose firms which maximize their utility, i.e. solve \n",
    "\n",
    "<a name=\"equivWalrasStable1\"></a>\n",
    "\\begin{align*}\n",
    "u_{x}=\\max_{y}\\left\\{  \\alpha_{xy}+w_{xy}\\right\\}\n",
    "\\end{align*}\n",
    "\n",
    "and $u_{x}=\\alpha_{xy}+w_{xy}$ if $x$ and $y$ are matched. Similarly, the indirect payoff vector of firms is\n",
    "\n",
    "<a name=\"equivWalrasStable2\"></a>\n",
    "\\begin{align*}\n",
    "v_{y}=\\max_{x}\\left\\{  \\gamma_{xy}-w_{xy}\\right\\}\n",
    "\\end{align*}\n",
    "\n",
    "and, again, $v_{y}=\\gamma_{xy}-w_{xy}$ if $x$ and $y$ are matched."
   ]
  },
  {
   "cell_type": "markdown",
   "metadata": {},
   "source": [
    "As a result,\n",
    "\n",
    "\\begin{align*}\n",
    "u_{x}+v_{y}\\geq\\alpha_{xy}+\\gamma_{xy}=\\Phi_{xy}\n",
    "\\end{align*}\n",
    "\n",
    "and equality holds if $x$ and $y$ are matched. Thus, if $w_{xy}$ is an equilibrium wage, then the triple $\\left(  \\pi,u,v\\right)$ where $\\pi$ is the corresponding matching, and $u_{x}$ and $v_{y}$ are defined by [this](#equivWalrasStable1) and [this](#equivWalrasStable2) defines a stable outcome.\n",
    "\n",
    "Conversely, let $\\left(\\pi,u,v\\right)$ be a stable outcome. Then let $\\bar{w}_{xx}$ and \\b{w}$_{xy}$ be defined by\n",
    "\n",
    "\\begin{align*}\n",
    "\\bar{w}_{xy}=u_{x}-\\alpha_{xy}\\text{ and }w^l_{xy}=\\gamma_{xy}-v_{y}.\n",
    "\\end{align*}\n",
    "\n",
    "One has $\\bar{w}_{xy}\\geq b^l_{xy}$. Any $w_{xy}$ such that $\\bar{w}_{xy}\\geq w_{xy}\\geq b^l_{xy}$ is an equilibrium wage. Indeed, $\\pi_{xy}>0$ implies $\\bar{w}_{xy} \\geq b^l_{xy}$, thus [this](#equivWalrasStable1) and [this](#equivWalrasStable2) hold. Given $u$ and $v$, $w_{xy}$ is uniquely defined on the equilibrium path (ie. when $x$ and $y$ are such that $\\pi_{xy}>0$), but there are multiple choices of $w$ outside the equilibrium path.\n",
    "\n",
    "Note that all workers of the same type get the same indirect utility, but not necessarly the same wage."
   ]
  },
  {
   "cell_type": "markdown",
   "metadata": {},
   "source": [
    "## Application: marital matchmaking\n",
    "\n",
    "We postulate that the form of the surplus function is\n",
    "\\begin{align*}\n",
    "\\Phi_{ij}=x_{i}^{\\intercal} Ay_{j}\n",
    "\\end{align*}\n",
    "where $x_{i}$ and $y_{j}$ are the 10-dimensional characteristics of man $i$ and woman $j$, and the form of $A$, a 10x10 matrix, is given (it is stored in the file `affinitymatrix.csv`). Again, we'll see later how to solve the econometrics problem of estimating $A$."
   ]
  },
  {
   "cell_type": "code",
   "execution_count": 3,
   "metadata": {},
   "outputs": [],
   "source": [
    "nbcar = 10\n",
    "affmat = affdf.iloc[0:nbcar,1:nbcar+1].values"
   ]
  },
  {
   "cell_type": "code",
   "execution_count": 4,
   "metadata": {},
   "outputs": [],
   "source": [
    "sdX = data_X.std().values\n",
    "sdY = data_Y.std().values\n",
    "mX = data_X.mean().values\n",
    "mY = data_Y.mean().values\n",
    "\n",
    "Xvals = ((data_X-mX)/sdX).values\n",
    "Yvals = ((data_Y-mY)/sdY).values\n",
    "\n",
    "nobs = Xvals.shape[0]\n",
    "Phi = Xvals @ affmat @ Yvals.T"
   ]
  },
  {
   "cell_type": "markdown",
   "metadata": {},
   "source": [
    "This problem of computation of the Optimal Assignment Problem, more specifically of $\\left(\\pi,u,v\\right)$, is arguably the most studied problem in Computer Science, and dozens, if not hundreds of algorithms exist, whose running time is polynomial in $\\max\\left(n,m\\right)$, typically a power less than three of the latter.\n",
    "\n",
    "Famous algorithms include: the Hungarian algorithm (Kuhn-Munkres); Bertsekas' auction algorithm; Goldberg and Kennedy's pseudoflow algorithm. For more on these, see the book by Burkard, Dell'Amico, and Martello, and a\n",
    "introductory presentation in http://www.assignmentproblems.com/doc/LSAPIntroduction.pdf.\n",
    "\n",
    "Here, we will show how to solve the problem with the help of a Linear Programming solver used as a black box; our challenge here will be to carefully set up the constraint matrix as a sparse matrix in order to let a large scale Linear Programming solvers such as Gurobi recognize and exploit the sparsity of the problem."
   ]
  },
  {
   "cell_type": "markdown",
   "metadata": {},
   "source": [
    "## Computation using linear programming"
   ]
  },
  {
   "cell_type": "markdown",
   "metadata": {},
   "source": [
    "Let $\\Pi$ and $\\Phi$ be the matrices with typical elements $\\left(\\pi_{xy}\\right)  $ and $\\left(  \\Phi_{xy}\\right)  $. We let $p$, $q$, $u$,$v$, and $1$ the column vectors with entries $\\left(  p_{x}\\right)$, $\\left(  q_{y}\\right)  $, $\\left(  u_{x}\\right)  $, $\\left(  v_{y}\\right)$, and $1$, respectively. The optimal assignment problem\n",
    "\n",
    "\\begin{align*}\n",
    "\\max_{\\pi\\geq0}  &  \\sum_{xy}\\pi_{xy}\\Phi_{xy} \\\\\n",
    "s.t.~  &  \\sum_{y\\in\\mathcal{Y}}\\pi_{xy}=p_{x}~\\left[  u_{x}\\right]\\\\\n",
    "&  \\sum_{x\\in\\mathcal{X}}\\pi_{xy}=q_{y}~\\left[  v_{y}\\right] \n",
    "\\end{align*}\n",
    "\n",
    "Can be rewritten writes using matrix algebra as\n",
    "\n",
    "\\begin{align*}\n",
    "&  \\max_{\\Pi\\geq0}Tr\\left(  \\Pi^{\\top}\\Phi\\right) \\\\\n",
    "&  \\Pi1_{M}=p\\\\\n",
    "&  1_{N}^{\\top}\\Pi=q^{\\top}.\n",
    "\\end{align*}\n",
    "\n",
    "For this we shall need to *vectorize* matrices $\\Pi$ and $\\Phi$. We need to understand how Python represents matrices in the memory."
   ]
  },
  {
   "cell_type": "markdown",
   "metadata": {},
   "source": [
    "### Vectorization\n",
    "\n",
    "By default, Python uses the *the row-major order*: a matrix is represented as the concatenation of its rows. Indeed:"
   ]
  },
  {
   "cell_type": "code",
   "execution_count": 5,
   "metadata": {},
   "outputs": [
    {
     "data": {
      "text/plain": [
       "array([1, 2, 3, 4, 5, 6])"
      ]
     },
     "execution_count": 5,
     "metadata": {},
     "output_type": "execute_result"
    }
   ],
   "source": [
    "test = np.array([[1,2,3],[4,5,6]])\n",
    "test.flatten()"
   ]
  },
  {
   "cell_type": "markdown",
   "metadata": {},
   "source": [
    "### Kronecker product\n",
    "\n",
    "\n",
    "Loosely speaking, the Kronecker product allows us to understand how a matrix product is vectorized. More precisely, if $A$ is a $M\\times p$ matrix and $B$ a $N\\times q$ matrix, and if $vec(A)$ vectorizes in the row-major order (i.e. concatenates the rows of $A$) then the Kronecker product $A\\otimes B$ of $A$ and $B$ is a $mn\\times pq$ matrix such that\n",
    "\n",
    "\\begin{align*}\n",
    "vec\\left(  AXB^{\\top}\\right)  =\\left(  A\\otimes B\\right)  vec\\left(\n",
    "X\\right). \\label{VecAndKronecker}\n",
    "\\end{align*}\n",
    "\n",
    "In python, $A\\otimes B$ is implemented by `sparse.kron(A,B)` of the library `sparse` of scipy.\n",
    "\n",
    "The first constraint $I_{N}\\Pi1_{M}=p$,  therefore vectorizes under the row-major order as\n",
    "\n",
    "\\begin{align*}\n",
    "\\left( I_{N} \\otimes1_{M}^{\\top}\\right)  vec\\left(  \\Pi\\right)  =vec\\left(\n",
    "p\\right),\n",
    "\\end{align*}\n",
    "\n",
    "and similarly, the second constraint $1_{N}^{\\top}\\Pi I_{M}=q^{\\top}$, vectorizes as\n",
    "\n",
    "\\begin{align*}\n",
    "\\left( 1_{N}^{\\top} \\otimes I_{M}\\right)  vec\\left(  \\Pi\\right)  =vec\\left(\n",
    "q\\right)  .\n",
    "\\end{align*}\n",
    "\n",
    "Note that the matrix $I_{N} \\otimes1_{M}^{\\top}$ is of size $N\\times NM$, and the matrix $ 1_{N}^{\\top} \\otimes I_{M}$ is of size $M\\times NM$; hence the full matrix involved in the left-hand side of the constraints is of size $\\left(  N+M\\right)  \\times NM$. In spite of its large size, this matrix is *sparse*. In python, the identity matrix $I_{N}$ is coded as `scipy.sparse.identity(N)`."
   ]
  },
  {
   "cell_type": "code",
   "execution_count": 6,
   "metadata": {},
   "outputs": [],
   "source": [
    "N,M = Phi.shape\n",
    "\n",
    "A1 = spr.kron(spr.identity(N),np.array(np.repeat(1,M)))\n",
    "A2 = spr.kron(np.array(np.repeat(1,N)),spr.identity(M))\n",
    "A = spr.vstack([A1, A2])\n",
    "\n",
    "p,q = np.repeat(1/nobs, nobs), np.repeat(1/nobs, nobs)\n",
    "d = np.concatenate((p,q), axis = None)"
   ]
  },
  {
   "cell_type": "markdown",
   "metadata": {},
   "source": [
    "Setting $z=vec\\left(  \\Pi\\right)$, the Linear Programming problem then becomes\n",
    "\n",
    "\\begin{align*}\n",
    "&  \\max_{z\\geq0}vec\\left(  \\Phi\\right)  ^{\\top}z\\label{LPvectorized}\\\\\n",
    "s.t.~  &  \\left( I_{N} \\otimes1_{M}^{\\top}\\right)  vec\\left(  \\Pi\\right)  =vec\\left(\n",
    "p\\right)\n",
    "\\nonumber\\\\\n",
    "&  \\left( 1_{N}^{\\top} \\otimes I_{M}\\right)  vec\\left(  \\Pi\\right)  =vec\\left(\n",
    "q\\right) \n",
    "\\nonumber\n",
    "\\end{align*}\n",
    "\n",
    "which is ready to be passed on to a linear programming solver such as Gurobi.\n",
    "\n",
    "A LP solver typically computes programs of the form\n",
    "\n",
    "\\begin{align*}\n",
    "&  \\max_{z\\geq0}c^{\\top}z\\label{standardLP}\\\\\n",
    "&  s.t.~Az=d.\\nonumber\n",
    "\\end{align*}"
   ]
  },
  {
   "cell_type": "code",
   "execution_count": 7,
   "metadata": {},
   "outputs": [
    {
     "name": "stdout",
     "output_type": "stream",
     "text": [
      "Using license file C:\\Users\\Alfred\\gurobi.lic\n",
      "Academic license - for non-commercial use only\n",
      "Gurobi Optimizer version 9.0.0 build v9.0.0rc2 (win64)\n",
      "Optimize a model with 2316 rows, 1340964 columns and 2681928 nonzeros\n",
      "Model fingerprint: 0x5c3c7a75\n",
      "Coefficient statistics:\n",
      "  Matrix range     [1e+00, 1e+00]\n",
      "  Objective range  [2e-07, 8e+00]\n",
      "  Bounds range     [0e+00, 0e+00]\n",
      "  RHS range        [9e-04, 9e-04]\n",
      "\n",
      "Concurrent LP optimizer: dual simplex and barrier\n",
      "Showing barrier log only...\n",
      "\n",
      "Presolve time: 3.56s\n",
      "Presolved: 2316 rows, 1340964 columns, 2681928 nonzeros\n",
      "\n",
      "Ordering time: 0.02s\n",
      "\n",
      "Barrier statistics:\n",
      " AA' NZ     : 1.341e+06\n",
      " Factor NZ  : 2.683e+06 (roughly 600 MBytes of memory)\n",
      " Factor Ops : 4.144e+09 (less than 1 second per iteration)\n",
      " Threads    : 1\n",
      "\n",
      "                  Objective                Residual\n",
      "Iter       Primal          Dual         Primal    Dual     Compl     Time\n",
      "   0   7.14844850e-13  6.69685424e-20  1.16e+02 7.60e+00  1.68e+00     5s\n",
      "   1  -1.11574956e+02  1.69369750e+01  7.24e-01 1.07e-14  1.07e-02     6s\n",
      "   2  -8.24719807e-02  1.68964256e+01  2.55e-15 1.07e-14  1.27e-05     6s\n",
      "   3   7.24096975e-02  6.43502950e+00  8.13e-18 1.78e-14  4.74e-06     7s\n",
      "   4   2.77690469e-01  3.27627927e+00  7.07e-17 9.77e-15  2.24e-06     8s\n",
      "   5   6.44844430e-01  2.35353425e+00  3.24e-17 7.55e-15  1.27e-06     9s\n",
      "   6   1.06049763e+00  1.96513827e+00  1.73e-17 6.00e-15  6.75e-07     9s\n",
      "   7   1.31688806e+00  1.82659299e+00  4.65e-17 5.77e-15  3.80e-07    10s\n",
      "   8   1.44770608e+00  1.79423054e+00  1.03e-14 7.11e-15  2.58e-07    11s\n",
      "   9   1.54539430e+00  1.75666687e+00  3.93e-15 7.11e-15  1.58e-07    11s\n",
      "  10   1.63054622e+00  1.74003251e+00  6.96e-16 7.11e-15  8.16e-08    12s\n",
      "\n",
      "Barrier performed 10 iterations in 11.52 seconds\n",
      "Barrier solve interrupted - model solved by another algorithm\n",
      "\n",
      "\n",
      "Solved with dual simplex\n",
      "Solved in 57355 iterations and 11.58 seconds\n",
      "Optimal objective  1.703883022e+00\n"
     ]
    }
   ],
   "source": [
    "m=grb.Model()\n",
    "x = m.addMVar(shape=N*M, name=\"x\")\n",
    "m.setObjective(Phi.flatten() @ x, grb.GRB.MAXIMIZE)\n",
    "m.addConstr(A @ x == d)\n",
    "m.optimize()\n",
    "\n",
    "if m.status == grb.GRB.Status.OPTIMAL:\n",
    "    solution = np.array(m.getAttr('x')).reshape(N,M)\n",
    "    pi = m.getAttr('pi')"
   ]
  },
  {
   "cell_type": "markdown",
   "metadata": {},
   "source": [
    "Which partner does man $i_0$ match with?"
   ]
  },
  {
   "cell_type": "code",
   "execution_count": 8,
   "metadata": {},
   "outputs": [
    {
     "name": "stdout",
     "output_type": "stream",
     "text": [
      "Man i_0 matches with woman j_575.\n"
     ]
    }
   ],
   "source": [
    "print('Man i_0 matches with woman j_'+str (np.argwhere(solution[0,:] != 0)[0][0] )+'.')"
   ]
  },
  {
   "cell_type": "markdown",
   "metadata": {},
   "source": [
    "# Part 2: optimal transport with entropic regularization"
   ]
  },
  {
   "cell_type": "markdown",
   "metadata": {},
   "source": [
    "### Learning objectives\n",
    "\n",
    "* Entropic regularization\n",
    "\n",
    "* The log-sum-exp trick\n",
    "\n",
    "* Gradient descent, coordinate descent\n",
    "\n",
    "* The Iterated Proportional Fitting Procedure (IPFP)\n",
    "\n",
    "### References\n",
    "\n",
    "* Galichon, *Optimal Transport Methods in Economics*,  Ch. 7.3\n",
    "\n",
    "* Peyré, Cuturi, *Computational Optimal Transport*, Ch. 4."
   ]
  },
  {
   "cell_type": "markdown",
   "metadata": {},
   "source": [
    "### Entropic regularization of the optimal transport problem\n",
    "\n",
    "Consider the problem\n",
    "\n",
    "\\begin{align*}\n",
    "\\max_{\\pi\\in\\mathcal{M}\\left(  p,q\\right)  }\\sum_{ij}\\pi_{ij}\\Phi_{ij}-\\sigma\\sum_{ij}\\pi_{ij}\\ln\\pi_{ij}\n",
    "\\end{align*}\n",
    "\n",
    "where $\\sigma>0$. The problem coincides with the optimal assignment problem when $\\sigma=0$. When $\\sigma\\rightarrow+\\infty$, the solution to this problem approaches the independent coupling, $\\pi_{ij}=p_{i}q_{j}$.\n",
    "\n",
    "Later on, we will provide microfoundations for this problem, and connect it with a number of important methods in economics (BLP, gravity model, Choo-Siow...). For now, let's just view this as an extension of the optimal transport problem."
   ]
  },
  {
   "cell_type": "markdown",
   "metadata": {},
   "source": [
    "Note that in the above, Gurobi is for benchmark purposes with the case $\\sigma=0$, but is not suited to compute the nonlinear optimization problem above.\n",
    "\n",
    "---\n",
    "\n",
    "We will use the same $\\Phi_{ij}$ as in the previous block. When running comparisons we will work on a smaller population, with `nbX` types of men and `nbY` types of women."
   ]
  },
  {
   "cell_type": "code",
   "execution_count": 9,
   "metadata": {},
   "outputs": [],
   "source": [
    "nbX = 5\n",
    "nbY = 3\n",
    "tol = 1e-9\n",
    "maxite = 1e+06\n",
    "\n",
    "Phi_0 = (Xvals @ affmat @ Yvals.T)[:nbX,:nbY]\n",
    "    \n",
    "p_0 = np.repeat(1/nbX, nbX)\n",
    "q_0 = np.repeat(1/nbY, nbY)\n",
    "\n",
    "nrow,ncol = min(8, nbX),min(8, nbY) # number of rows/columns to display"
   ]
  },
  {
   "cell_type": "markdown",
   "metadata": {},
   "source": [
    "As a warm-up, let us compute as in the previous part the solution to the problem for $\\sigma=0$ that we can compute with Gurobi:"
   ]
  },
  {
   "cell_type": "code",
   "execution_count": 10,
   "metadata": {},
   "outputs": [
    {
     "name": "stdout",
     "output_type": "stream",
     "text": [
      "Time elapsed (Gurobi) =  0.7829978466033936 s.\n",
      "Value of the problem (Gurobi) =  0.41095324822187473\n",
      "[-0.63237262 -0.57124993  1.634949   -1.24417523  0.        ]\n",
      "[0.62598494 0.61304671 0.48153736]\n",
      "*************************\n"
     ]
    }
   ],
   "source": [
    "ptm = time.time()\n",
    "\n",
    "A1_0 = spr.kron(spr.identity(nbX),np.array(np.repeat(1,nbY)))\n",
    "A2_0 = spr.kron(np.array(np.repeat(1,nbX)),spr.identity(nbY))\n",
    "A_0 = spr.vstack([A1_0, A2_0])\n",
    "\n",
    "    \n",
    "m = grb.Model()\n",
    "x = m.addMVar(nbX*nbY, name='x')\n",
    "m.setObjective(Phi_0.flatten() @ x, grb.GRB.MAXIMIZE)\n",
    "m.addConstr(A_0 @ x == np.hstack([p_0,q_0]))\n",
    "m.setParam( 'OutputFlag', False ) #quiet output\n",
    "m.optimize()\n",
    "diff = time.time() - ptm\n",
    "print('Time elapsed (Gurobi) = ', diff, 's.')\n",
    "if m.status == grb.GRB.Status.OPTIMAL:\n",
    "    val_gurobi = m.objval\n",
    "    x = m.getAttr('x')\n",
    "    x = np.array(x).reshape([nbX, nbY])\n",
    "    pi = m.getAttr('pi')\n",
    "    u_gurobi = pi[:nbX]\n",
    "    v_gurobi = pi[nbX:nbX + nbY]\n",
    "    print(\"Value of the problem (Gurobi) = \", val_gurobi)\n",
    "    print(np.subtract(u_gurobi[:nrow], u_gurobi[nrow - 1]))\n",
    "    print(np.add(v_gurobi[:ncol], u_gurobi[nrow - 1]))\n",
    "    print('*************************')"
   ]
  },
  {
   "cell_type": "markdown",
   "metadata": {},
   "source": [
    "### Dual of the regularized problem\n",
    "\n",
    "Let's compute the dual by the minimax approach. We have\n",
    "\n",
    "\\begin{align*}\n",
    "\\max_{\\pi\\geq0}\\min_{u,v}\\sum_{ij}\\pi_{ij}\\left(  \\Phi_{ij}-u_{i}-v_{j}%\n",
    "-\\sigma\\ln\\pi_{ij}\\right)  +\\sum_{i}u_{i}p_{i}+\\sum_{j}v_{j}q_{j}%\n",
    "\\end{align*}\n",
    "\n",
    "thus\n",
    "\n",
    "\\begin{align*}\n",
    "\\min_{u,v}\\sum_{i}u_{i}p_{i}+\\sum_{j}v_{j}q_{j}+\\max_{\\pi\\geq0}\\sum_{ij}%\n",
    "\\pi_{ij}\\left(  \\Phi_{ij}-u_{i}-v_{j}-\\sigma\\ln\\pi_{ij}\\right)\n",
    "\\end{align*}\n",
    "\n",
    "By FOC in the inner problem, one has $\\Phi_{ij}-u_{i}-v_{j}-\\sigma\\ln \\pi_{ij}-\\sigma=0,$thus\n",
    "\n",
    "\\begin{align*}\n",
    "\\pi_{ij}=\\exp\\left(  \\frac{\\Phi_{ij}-u_{i}-v_{j}-\\sigma}{\\sigma}\\right)\n",
    "\\end{align*}\n",
    "\n",
    "and $\\pi_{ij}\\left(  \\Phi_{ij}-u_{i}-v_{j}-\\sigma\\ln\\pi_{ij}\\right) =\\sigma\\pi_{ij}$, thus the dual problem is\n",
    "\n",
    "\\begin{align*}\n",
    "\\min_{u,v}\\sum_{i}u_{i}p_{i}+\\sum_{j}v_{j}q_{j}+\\sigma\\sum_{ij}\\exp\\left(\n",
    "\\frac{\\Phi_{ij}-u_{i}-v_{j}-\\sigma}{\\sigma}\\right)  .\n",
    "\\end{align*}"
   ]
  },
  {
   "cell_type": "markdown",
   "metadata": {},
   "source": [
    "After replacing $v_{j}$ by $v_{j}+\\sigma$, the dual is\n",
    "\n",
    "\\begin{align*}\n",
    "\\min_{u,v}\\sum_{i}u_{i}p_{i}+\\sum_{j}v_{j}q_{j}+\\sigma\\sum_{ij}\\exp\\left(\n",
    "\\frac{\\Phi_{ij}-u_{i}-v_{j}}{\\sigma}\\right)  -\\sigma. \\tag{V1}\n",
    "\\end{align*}"
   ]
  },
  {
   "cell_type": "markdown",
   "metadata": {},
   "source": [
    "### Another expression of the dual\n",
    "\n",
    "**Claim:** the problem is equivalent to\n",
    "\n",
    "<a name='V2'></a>\n",
    "\\begin{align*}\n",
    "\\min_{u,v}\\sum_{i}u_{i}p_{i}+\\sum_{j}v_{j}q_{j}+\\sigma\\log\\sum_{i,j}\n",
    "\\exp\\left(  \\frac{\\Phi_{ij}-u_{i}-v_{j}}{\\sigma}\\right)  \\tag{V2}\n",
    "\\end{align*}\n",
    "\n",
    "Indeed, let us go back to the minimax expression\n",
    "\n",
    "\\begin{align*}\n",
    "\\min_{u,v}\\sum_{i}u_{i}p_{i}+\\sum_{j}v_{j}q_{j}+\\max_{\\pi\\geq0}\\sum_{ij}\\pi_{ij}\\left(  \\Phi_{ij}-u_{i}-v_{j}-\\sigma\\ln\\pi_{ij}\\right)\n",
    "\\end{align*}\n",
    "\n",
    "we see that the solution $\\pi$ has automatically $\\sum_{ij}\\pi_{ij}=1$; thus we can incorporate the constraint into\n",
    "\n",
    "\\begin{align*}\n",
    "\\min_{u,v}\\sum_{i}u_{i}p_{i}+\\sum_{j}v_{j}q_{j}+\\max_{\\pi\\geq0:\\sum_{ij}\\pi_{ij}=1}\\sum_{ij}\\pi_{ij}\\left(  \\Phi_{ij}-u_{i}-v_{j}-\\sigma\\ln\\pi_{ij}\\right)\n",
    "\\end{align*}\n",
    "\n",
    "which yields the [our desired result](#V2)."
   ]
  },
  {
   "cell_type": "markdown",
   "metadata": {},
   "source": [
    "[This expression](#V2) is interesting because, taking *any* $\\hat{\\pi}\\in\n",
    "M\\left(  p,q\\right)$, it reexpresses as\n",
    "\n",
    "\\begin{align*}\n",
    "\\max_{u,v}\\sum_{ij}\\hat{\\pi}_{ij}\\left(  \\frac{\\Phi_{ij}-u_{i}-v_{j}}{\\sigma}\\right)  -\\log\\sum_{ij}\\exp\\left(  \\frac{\\Phi_{ij}-u_{i}-v_{j}}{\\sigma}\\right)\n",
    "\\end{align*}\n",
    "\n",
    "therefore if the parameter is $\\theta=\\left(  u,v\\right)$, observations are\n",
    "$ij$ pairs, and the likelihood of $ij$ is\n",
    "\n",
    "\\begin{align*}\n",
    "\\pi_{ij}^{\\theta}=\\frac{\\exp\\left(  \\frac{\\Phi_{ij}-u_{i}-v_{j}}{\\sigma\n",
    "}\\right)  }{\\sum_{ij}\\exp\\left(  \\frac{\\Phi_{ij}-u_{i}-v_{j}}{\\sigma}\\right)\n",
    "}\n",
    "\\end{align*}\n",
    "\n",
    "Hence, [our expression](#problem) will coincide with the maximum likelihood in this model."
   ]
  },
  {
   "cell_type": "markdown",
   "metadata": {},
   "source": [
    "### A third expression of the dual problem\n",
    "\n",
    "Consider\n",
    "\n",
    "<a name='V2'></a>\n",
    "\\begin{align*}\n",
    "\\min_{u,v}  &  \\sum_{i}u_{i}p_{i}+\\sum_{j}v_{j}q_{j} \\\\\n",
    "s.t. \\quad &  \\sum_{i,j}\\exp\\left(  \\frac{\\Phi_{ij}-u_{i}-v_{j}}{\\sigma}\\right)\n",
    "=1\n",
    "\\end{align*}\n",
    "\n",
    "It is easy to see that the solutions of this problem coincide with [version 2](#V2). Indeed, the Lagrange multiplier is forced to be one. In other words,\n",
    "\n",
    "\\begin{align*}\n",
    "\\min_{u,v}  &  \\sum_{i}u_{i}p_{i}+\\sum_{j}v_{j}q_{j}\\\\\n",
    "s.t. \\quad &  \\sigma\\log\\sum_{i,j}\\exp\\left(  \\frac{\\Phi_{ij}-u_{i}-v_{j}}{\\sigma\n",
    "}\\right)  =0\n",
    "\\end{align*}"
   ]
  },
  {
   "cell_type": "markdown",
   "metadata": {},
   "source": [
    "### Small-temperature limit and the log-sum-exp trick\n",
    "\n",
    "Recall that when $\\sigma\\rightarrow0$, one has\n",
    "\n",
    "\\begin{align*}\n",
    "\\sigma\\log\\left(  e^{a/\\sigma}+e^{b/\\sigma}\\right)  \\rightarrow\\max\\left(\n",
    "a,b\\right)\n",
    "\\end{align*}\n",
    "\n",
    "Indeed, letting $m=\\max\\left(  a,b\\right)$,\n",
    "\n",
    "<a name='lse'></a>\n",
    "\\begin{align*}\n",
    "\\sigma\\log\\left(  e^{a/\\sigma}+e^{b/\\sigma}\\right)  =m+\\sigma\\log\\left(\\exp\\left(  \\frac{a-m}{\\sigma}\\right)  +\\exp\\left(  \\frac{b-m}{\\sigma}\\right)\\right),\n",
    "\\end{align*}\n",
    "and the argument of the logarithm lies between $1$ and $2$.\n",
    "\n",
    "This simple remark is actually a useful numerical recipe called the *log-sum-exp trick*: when $\\sigma$ is small, using [the formula above](#lse) to compute $\\sigma\\log\\left(  e^{a/\\sigma}+e^{b/\\sigma}\\right)$ ensures the exponentials won't blow up.\n"
   ]
  },
  {
   "cell_type": "markdown",
   "metadata": {},
   "source": [
    "### The log-sum-exp trick for regularized OT\n",
    "\n",
    "Back to the third expression, with $\\sigma\\rightarrow0$, one has\n",
    "\n",
    "\\begin{align*}\n",
    "\\min_{u,v}  &  \\sum_{i}u_{i}p_{i}+\\sum_{j}v_{j}q_{j}\\tag{V3}\\\\\n",
    "s.t.  &  \\max_{ij}\\left(  \\Phi_{ij}-u_{i}-v_{j}\\right)  =0\\nonumber\n",
    "\\end{align*}\n",
    "\n",
    "This is exactly equivalent with the classical Monge-Kantorovich expression\n",
    "\n",
    "\\begin{align*}\n",
    "\\min_{u,v}  &  \\sum_{i}u_{i}p_{i}+\\sum_{j}v_{j}q_{j}\\tag{V3}\\\\\n",
    "s.t.  &  \\Phi_{ij}-u_{i}-v_{j}\\leq0\\nonumber\n",
    "\\end{align*}"
   ]
  },
  {
   "cell_type": "markdown",
   "metadata": {},
   "source": [
    "Back to the third expression of the dual, with $\\sigma\\rightarrow0$, one has\n",
    "\n",
    "\\begin{align*}\n",
    "\\min_{u,v}  &  \\sum_{i}u_{i}p_{i}+\\sum_{j}v_{j}q_{j}\\tag{V3}\\\\\n",
    "s.t.  &  \\max_{ij}\\left(  \\Phi_{ij}-u_{i}-v_{j}\\right)  =0\\nonumber\n",
    "\\end{align*}\n",
    "\n",
    "This is exactly equivalent with the classical Monge-Kantorovich expression\n",
    "\n",
    "\\begin{align*}\n",
    "\\min_{u,v}  &  \\sum_{i}u_{i}p_{i}+\\sum_{j}v_{j}q_{j}\\tag{V3}\\\\\n",
    "s.t.  &  \\Phi_{ij}-u_{i}-v_{j}\\leq0\\nonumber\n",
    "\\end{align*}"
   ]
  },
  {
   "cell_type": "markdown",
   "metadata": {},
   "source": [
    "### Computation\n",
    "\n",
    "We can compute $\\min F\\left(  x\\right)$ by two methods:\n",
    "\n",
    "Either by gradient descent: $x\\left(  t+1\\right)  =x_{t}-\\epsilon _{t}\\nabla F\\left(  x_{t}\\right)  $. (Steepest descent has $\\epsilon _{t}=1/\\left\\vert \\nabla F\\left(  x_{t}\\right)  \\right\\vert $.)\n",
    "\n",
    "Or by coordinate descent: $x_{i}\\left(  t+1\\right)  =\\arg\\min_{x_{i}}F\\left(  x_{i},x_{-i}\\left(  t\\right)  \\right)$.\n",
    "\n",
    "Why do these methods converge? Let's provide some justification. We will decrease $x_{t}$ by $\\epsilon d_{t}$, were $d_{t}$ is normalized by $\\left\\vert d_{t}\\right\\vert _{p}:=\\left(  \\sum_{i=1}^{n}d_{t}^{i}\\right) ^{1/p}=1$. At first order, we have \n",
    "\n",
    "\\begin{align*}\n",
    "F\\left(  x_{t}-\\epsilon d_{t}\\right)  =F\\left(  x_{t}\\right)  -\\epsilon d_{t}^{\\intercal}\\nabla F\\left(  x_{t}\\right)  +O\\left(  \\epsilon^{1}\\right).\n",
    "\\end{align*}\n",
    "\n",
    "We need to maximize $d_{t}^{\\intercal}\\nabla F\\left(  x_{t}\\right)$ over $\\left\\vert d_{t}\\right\\vert _{p}=1$.\n",
    "\n",
    "* For $p=2$, we get $d_{t}=\\nabla F\\left(  x_{t}\\right)  /\\left\\vert \\nabla F\\left(  x_{t}\\right)  \\right\\vert $\n",
    "\n",
    "* For $p=1$, we get $d_{t}=sign\\left(  \\partial F\\left(  x_{t}\\right)/\\partial x^{i}\\right)  $ if $\\left\\vert \\partial F\\left(  x_{t}\\right) /\\partial x^{i}\\right\\vert =\\max_{j}\\left\\vert \\partial F\\left(  x_{t}\\right) /\\partial x^{j}\\right\\vert $, $0$ otherwise.\n"
   ]
  },
  {
   "cell_type": "markdown",
   "metadata": {},
   "source": [
    "In our context, gradient descent is\n",
    "\n",
    "\\begin{align*}\n",
    "u_{i}\\left(  t+1\\right)    & =u_{i}\\left(  t\\right)  -\\epsilon\\frac{\\partial\n",
    "F}{\\partial u_{i}}\\left(  u\\left(  t\\right)  ,v\\left(  t\\right)  \\right)\n",
    ",\\text{ and }\\\\\n",
    "v_{j}\\left(  t+1\\right)    & =v_{j}\\left(  t\\right)  -\\epsilon\\frac{\\partial\n",
    "F}{\\partial v_{j}}\\left(  u\\left(  t\\right)  ,v\\left(  t\\right)  \\right)\n",
    "\\end{align*}\n",
    "\n",
    "while coordinate descent is\n",
    "\n",
    "\\begin{align*}\n",
    "\\frac{\\partial F}{\\partial u_{i}}\\left(  u_{i}\\left(  t+1\\right)\n",
    ",u_{-i}\\left(  t\\right)  ,v\\left(  t\\right)  \\right)  =0,\\text{ and }\n",
    "\\frac{\\partial F}{\\partial v_{j}}\\left(  u\\left(  t\\right)  ,v_{j}\\left(\n",
    "t+1\\right)  ,v_{-j}\\left(  t\\right)  \\right)  =0.\n",
    "\\end{align*}"
   ]
  },
  {
   "cell_type": "markdown",
   "metadata": {},
   "source": [
    "### Gradient descent\n",
    "\n",
    "Gradient of objective function in version 1 of our problem:\n",
    "\n",
    "\\begin{align*}\n",
    "\\left(  p_{i}-\\sum_{j}\\exp\\left(  \\frac{\\Phi_{ij}-u_{i}-v_{j}}{\\sigma}\\right)\n",
    ",q_{j}-\\sum_{i}\\exp\\left(  \\frac{\\Phi_{ij}-u_{i}-v_{j}}{\\sigma}\\right)\n",
    "\\right)\n",
    "\\end{align*}\n",
    "\n",
    "Gradient of objective function in version 2\n",
    "\n",
    "\\begin{align*}\n",
    "\\left(  p_{i}-\\frac{\\sum_{j}\\exp\\left(  \\frac{\\Phi_{ij}-u_{i}-v_{j}}{\\sigma\n",
    "}\\right)  }{\\sum_{ij}\\exp\\left(  \\frac{\\Phi_{ij}-u_{i}-v_{j}}{\\sigma}\\right)\n",
    "},q_{j}-\\frac{\\sum_{i}\\exp\\left(  \\frac{\\Phi_{ij}-u_{i}-v_{j}}{\\sigma}\\right)\n",
    "}{\\sum_{ij}\\exp\\left(  \\frac{\\Phi_{ij}-u_{i}-v_{j}}{\\sigma}\\right)  }\\right)\n",
    "\\end{align*}"
   ]
  },
  {
   "cell_type": "markdown",
   "metadata": {},
   "source": [
    "### Coordinate descent\n",
    "\n",
    "Coordinate descent on objective function in version 1:\n",
    "\n",
    "\\begin{align*}\n",
    "p_{i}  & =\\sum_{j}\\exp\\left(  \\frac{\\Phi_{ij}-u_{i}\\left(  t+1\\right)\n",
    "-v_{j}\\left(  t\\right)  }{\\sigma}\\right)  ,\\\\\n",
    "q_{j}  & =\\sum_{i}\\exp\\left(  \\frac{\\Phi_{ij}-u_{i}\\left(  t\\right)\n",
    "-v_{j}\\left(  t+1\\right)  }{\\sigma}\\right)\n",
    "\\end{align*}\n",
    "\n",
    "that is\n",
    "\n",
    "\\begin{align*}\n",
    "\\left\\{\n",
    "\\begin{array}\n",
    "[c]{c}\n",
    "u_{i}\\left(  t+1\\right)  =\\sigma\\log\\left(  \\frac{1}{p_{i}}\\sum_{j}\\exp\\left(\n",
    "\\frac{\\Phi_{ij}-v_{j}\\left(  t\\right)  }{\\sigma}\\right)  \\right)  \\\\\n",
    "v_{j}\\left(  t+1\\right)  =\\sigma\\log\\left(  \\frac{1}{q_{j}}\\sum_{i}\\exp\\left(\n",
    "\\frac{\\Phi_{ij}-u_{i}\\left(  t\\right)  }{\\sigma}\\right)  \\right)\n",
    "\\end{array}\n",
    "\\right.\n",
    "\\end{align*}\n",
    "\n",
    "this is called the Iterated Fitting Proportional Procedure (IPFP), or Sinkhorn's algorithm.\n",
    "\n",
    "Coordinate descent on objective function in version 2 does not yield a closed-form expression."
   ]
  },
  {
   "cell_type": "markdown",
   "metadata": {},
   "source": [
    "### IPFP, matrix version\n",
    "\n",
    "Letting $a_{i}=\\exp\\left(  -u_{i}/\\sigma\\right)  $ and $b_{j}=\\exp\\left(  -v_{j}/\\sigma\\right)  $ and $K_{ij}=\\exp\\left(  \\Phi_{ij}/\\sigma\\right)  $, one has $\\pi_{ij}=a_{i}b_{j}K_{ij}$, and the procedure reexpresses as\n",
    "\n",
    "\\begin{align*}\n",
    "\\left\\{\n",
    "\\begin{array}\n",
    "[c]{l}%\n",
    "a_{i}\\left(  t+1\\right)  =p_{i}/\\left(  Kb\\left(  t\\right)  \\right)\n",
    "_{i}\\text{ and }\\\\\n",
    "b_{j}\\left(  t+1\\right)  =q_{j}/\\left(  K^{\\intercal}a\\left(  t\\right)\n",
    "\\right)  _{j}.\n",
    "\\end{array}\n",
    "\\right.\n",
    "\\end{align*}\n",
    "\n",
    "Because this algorithm involves matrix operations only, and is naturally suited for parallel computation, GPUs are a tool of choice for addressing is. See chap. 4 of Peyré and Cuturi."
   ]
  },
  {
   "cell_type": "markdown",
   "metadata": {},
   "source": [
    "**Implementation**. Let's implement this algorithm. \n",
    "\n",
    "\n",
    "We define for convenience:"
   ]
  },
  {
   "cell_type": "code",
   "execution_count": 11,
   "metadata": {},
   "outputs": [],
   "source": [
    "def two_d(X):\n",
    "    return np.reshape(X,(X.size, 1))"
   ]
  },
  {
   "cell_type": "markdown",
   "metadata": {},
   "source": [
    "Returning to the matrix-IPFP algorithm:"
   ]
  },
  {
   "cell_type": "code",
   "execution_count": 12,
   "metadata": {},
   "outputs": [
    {
     "name": "stdout",
     "output_type": "stream",
     "text": [
      "IPFP1 converged in  89  steps and  0.011997461318969727 s.\n",
      "Value of the problem (IPFP1) =  0.6045556509904391\n",
      "Sum(pi*Phi) (IPFP1) =  0.4001284575694893\n",
      "*************************\n"
     ]
    }
   ],
   "source": [
    "## Matrix IPFP\n",
    "ptm = time.time()\n",
    "ite = 0\n",
    "sigma = 0.1\n",
    "\n",
    "K = np.exp(Phi_0/sigma)\n",
    "B = two_d(np.repeat(1, nbY))\n",
    "error = tol + 1\n",
    "    \n",
    "while error > tol and ite < maxite:\n",
    "    A = two_d(p_0/(K @ B).flatten(order='F'))\n",
    "    KA = (A.T @ K)\n",
    "    error = np.max(abs(np.multiply(KA,B.flatten()/q_0)-1))\n",
    "    B = (q_0 / KA).T\n",
    "    ite = ite + 1\n",
    "        \n",
    "u = - sigma * np.log(A)\n",
    "v = - sigma * np.log(B)\n",
    "pi = (K * A) * np.repeat(B, 5, axis = 1).T\n",
    "val = np.sum(pi * Phi_0) - sigma * np.sum(pi * np.log(pi))\n",
    "end = time.time() - ptm\n",
    "if ite >= maxite:\n",
    "    print('Maximum number of iteations reached in IPFP1.')\n",
    "else:\n",
    "    print('IPFP1 converged in ', ite, ' steps and ', end, 's.')\n",
    "    print('Value of the problem (IPFP1) = ', val)\n",
    "    print('Sum(pi*Phi) (IPFP1) = ', np.sum(np.multiply(pi,Phi_0)))\n",
    "    print('*************************')"
   ]
  },
  {
   "cell_type": "markdown",
   "metadata": {},
   "source": [
    "To see the benefit of the matrix version, let us recode the same algorithm as above, but in the log-domain, namely iterate over "
   ]
  },
  {
   "cell_type": "code",
   "execution_count": 13,
   "metadata": {},
   "outputs": [
    {
     "name": "stdout",
     "output_type": "stream",
     "text": [
      "IPFP1_logs converged in  156  steps and  0.018995285034179688 s.\n",
      "Value of the problem (IPFP1_logs) =  0.42959369459249064\n",
      "Sum(pi*Phi) (IPFP1_logs) =  0.4109531251395\n",
      "*************************\n"
     ]
    }
   ],
   "source": [
    "# log-domain IPFP\n",
    "sigma = 0.01\n",
    "ptm = time.time()\n",
    "ite = 0\n",
    "v = np.repeat(0, nbY)\n",
    "mu = - sigma * np.log(p_0)\n",
    "nu = - sigma * np.log(q_0)\n",
    "error = tol + 1\n",
    "while error > tol and ite < maxite:\n",
    "    u = mu + sigma * np.log(np.sum(np.exp((Phi_0 - np.repeat(two_d(v), nbX, axis = 1).T)/sigma), axis=1))\n",
    "    KA = np.sum(np.exp((Phi_0 - two_d(u)) / sigma), axis=0)\n",
    "    error = np.max(np.abs(KA * np.exp(-v / sigma) / q_0 - 1))\n",
    "    v = nu + sigma * np.log(KA)\n",
    "    ite = ite + 1\n",
    "pi = np.exp((Phi_0 - two_d(u) - np.repeat(two_d(v), nbX, axis = 1).T) / sigma)\n",
    "val = np.sum(pi * Phi_0) - sigma * np.sum(pi * np.log(pi))\n",
    "end = time.time() - ptm\n",
    "\n",
    "if ite >= maxite:\n",
    "    print('Maximum number of iteations reached in IPFP1.')\n",
    "else:\n",
    "    print('IPFP1_logs converged in ', ite, ' steps and ', end, 's.')\n",
    "    print('Value of the problem (IPFP1_logs) = ', val)\n",
    "    print('Sum(pi*Phi) (IPFP1_logs) = ', np.sum(pi *Phi_0))\n",
    "    print('*************************')"
   ]
  },
  {
   "cell_type": "markdown",
   "metadata": {},
   "source": [
    "We see that the log-domain IPFP, while  mathematically equivalent to matrix IPFP, it is noticeably slower. "
   ]
  },
  {
   "cell_type": "markdown",
   "metadata": {},
   "source": [
    "### IPFP with the log-sum-exp trick\n",
    "\n",
    "The matrix IPFPis very fast, partly due to the fact that it involves linear algebra operations. However, it breaks down when $\\sigma$ is small; this is best seen taking a log transform and returning to $u^{k}=-\\sigma\\log a^{k}$ and $v^{k}=-\\sigma\\log b^{k}$, that is\n",
    "\n",
    "\\begin{align*}\n",
    "\\left\\{\n",
    "\\begin{array}\n",
    "[c]{l}%\n",
    "u_{i}^{k}=\\mu_{i}+\\sigma\\log\\sum_{j}\\exp\\left(  \\frac{\\Phi_{ij}-v_{j}^{k-1}%\n",
    "}{\\sigma}\\right) \\\\\n",
    "v_{j}^{k}=\\zeta_{j}+\\sigma\\log\\sum_{i}\\exp\\left(  \\frac{\\Phi_{ij}-u_{i}^{k}%\n",
    "}{\\sigma}\\right)\n",
    "\\end{array}\n",
    "\\right.\n",
    "\\end{align*}\n",
    "\n",
    "where $\\mu_{i}=-\\sigma\\log p_{i}$ and $\\zeta_{j}=-\\sigma\\log q_{j}$.\n",
    "\n",
    "One sees what may go wrong: if $\\Phi_{ij}-v_{j}^{k-1}$ is positive in the exponential in the first sum, then the exponential blows up due to the small $\\sigma$ at the denominator. However, the log-sum-exp trick can be used in order to avoid this issue.\n",
    "\n"
   ]
  },
  {
   "cell_type": "markdown",
   "metadata": {},
   "source": [
    "Consider\n",
    "\n",
    "\\begin{align*}\n",
    "\\left\\{\n",
    "\\begin{array}\n",
    "[c]{l}%\n",
    "\\tilde{v}_{i}^{k}=\\max_{j}\\left\\{  \\Phi_{ij}-v_{j}^{k}\\right\\} \\\\\n",
    "\\tilde{u}_{j}^{k}=\\max_{i}\\left\\{  \\Phi_{ij}-u_{i}^{k}\\right\\}\n",
    "\\end{array}\n",
    "\\right.\n",
    "\\end{align*}\n",
    "\n",
    "(the indexing is not a typo: $\\tilde{v}$ is indexed by $i$ and $\\tilde{u}$ by $j$).\n",
    "\n",
    "One has\n",
    "\n",
    "\\begin{align*}\n",
    "\\left\\{\n",
    "\\begin{array}\n",
    "[c]{l}%\n",
    "u_{i}^{k}=\\mu_{i}+\\tilde{v}_{i}^{k-1}+\\sigma\\log\\sum_{j}\\exp\\left(  \\frac\n",
    "{\\Phi_{ij}-v_{j}^{k-1}-\\tilde{v}_{i}^{k}}{\\sigma}\\right) \\\\\n",
    "v_{j}^{k}=\\zeta_{j}+\\tilde{u}_{j}^{k}+\\sigma\\log\\sum_{i}\\exp\\left(  \\frac\n",
    "{\\Phi_{ij}-u_{i}^{k}-\\tilde{u}_{j}^{k}}{\\sigma}\\right)\n",
    "\\end{array}\n",
    "\\right.\n",
    "\\end{align*}\n",
    "\n",
    "and now the arguments of the exponentials are always nonpositive, ensuring the exponentials don't blow up."
   ]
  },
  {
   "cell_type": "markdown",
   "metadata": {},
   "source": [
    "Both the matrix version and the log-domain version of the IPFP  will break down when $\\sigma$ is small, e.g. $\\sigma=0.001$ (Try!). However if we modify the second procedure using the log-sum-exp trick, things work again:"
   ]
  },
  {
   "cell_type": "code",
   "execution_count": 14,
   "metadata": {},
   "outputs": [
    {
     "name": "stdout",
     "output_type": "stream",
     "text": [
      "IPFP1_logs converged in  315  steps and  0.05800271034240723 s.\n",
      "Value of the problem (IPFP1_logs) =  nan\n",
      "Sum(pi*Phi) (IPFP1_logs) =  0.4109535261379549\n",
      "*************************\n"
     ]
    },
    {
     "name": "stderr",
     "output_type": "stream",
     "text": [
      "C:\\Users\\Alfred\\Anaconda3\\lib\\site-packages\\ipykernel_launcher.py:23: RuntimeWarning: divide by zero encountered in log\n",
      "C:\\Users\\Alfred\\Anaconda3\\lib\\site-packages\\ipykernel_launcher.py:23: RuntimeWarning: invalid value encountered in multiply\n"
     ]
    }
   ],
   "source": [
    "# IPFP with log-sum-exp trick\n",
    "\n",
    "sigma = 0.001\n",
    "ptm = time.time()\n",
    "ite = 0\n",
    "v = np.repeat(0, nbY)\n",
    "mu = - sigma * np.log(p_0)\n",
    "nu = - sigma * np.log(q_0)\n",
    "error = tol + 1\n",
    "uprec = np.NINF\n",
    "while error > tol and ite < maxite:\n",
    "    vstar = np.max(Phi_0.T - two_d(v), axis = 0)\n",
    "    u = mu + vstar + sigma * np.log(np.sum(np.exp((Phi_0 - np.repeat(two_d(v), nbX, axis = 1).T - \n",
    "                                                   two_d(vstar))/sigma), axis=1))\n",
    "    error = np.max(abs(u - uprec))\n",
    "    uprec = u\n",
    "    ustar = np.max(Phi_0 - two_d(u), axis = 0)\n",
    "    KA = np.sum(np.exp((Phi_0 - two_d(u) - np.repeat(two_d(ustar), nbX, axis = 1).T) / sigma), axis=0)\n",
    "\n",
    "    v = nu + ustar + sigma * np.log(KA)\n",
    "    ite = ite + 1\n",
    "pi = np.exp((Phi_0 - two_d(u) - np.repeat(two_d(v), nbX, axis = 1).T) / sigma)\n",
    "val = np.sum(pi * Phi_0) - sigma * np.sum(pi * np.log(pi))\n",
    "end = time.time() - ptm\n",
    "\n",
    "if ite >= maxite:\n",
    "    print('Maximum number of iteations reached in IPFP1.')\n",
    "else:\n",
    "    print('IPFP1_logs converged in ', ite, ' steps and ', end, 's.')\n",
    "    print('Value of the problem (IPFP1_logs) = ', val)\n",
    "    print('Sum(pi*Phi) (IPFP1_logs) = ', np.sum(pi *Phi_0))\n",
    "    print('*************************')"
   ]
  }
 ],
 "metadata": {
  "kernelspec": {
   "display_name": "Python 3 (ipykernel)",
   "language": "python",
   "name": "python3"
  },
  "language_info": {
   "codemirror_mode": {
    "name": "ipython",
    "version": 3
   },
   "file_extension": ".py",
   "mimetype": "text/x-python",
   "name": "python",
   "nbconvert_exporter": "python",
   "pygments_lexer": "ipython3",
   "version": "3.7.9"
  }
 },
 "nbformat": 4,
 "nbformat_minor": 2
}
